{
  "cells": [
    {
      "cell_type": "code",
      "execution_count": null,
      "id": "MR93vtmTYqiR",
      "metadata": {
        "colab": {
          "base_uri": "https://localhost:8080/"
        },
        "id": "MR93vtmTYqiR",
        "outputId": "edea03c9-ccad-4578-d4ca-572f23aa1914"
      },
      "outputs": [
        {
          "output_type": "stream",
          "name": "stdout",
          "text": [
            "\u001b[2K   \u001b[90m━━━━━━━━━━━━━━━━━━━━━━━━━━━━━━━━━━━━━━━━\u001b[0m \u001b[32m99.2/99.2 MB\u001b[0m \u001b[31m7.2 MB/s\u001b[0m eta \u001b[36m0:00:00\u001b[0m\n",
            "\u001b[?25h"
          ]
        }
      ],
      "source": [
        "!pip -q install catboost"
      ]
    },
    {
      "cell_type": "code",
      "execution_count": null,
      "id": "5f2368ef-759a-42af-953b-3dac707a775b",
      "metadata": {
        "id": "5f2368ef-759a-42af-953b-3dac707a775b"
      },
      "outputs": [],
      "source": [
        "import numpy as np\n",
        "import pandas as pd\n",
        "import matplotlib.pyplot as plt\n",
        "from sklearn.decomposition import PCA\n",
        "import tensorflow as tf\n",
        "from tensorflow.keras.layers import  Dense,Dropout,Input\n",
        "from tensorflow.keras import regularizers\n",
        "\n",
        "from sklearn.model_selection import train_test_split\n",
        "from sklearn.preprocessing import StandardScaler\n",
        "from sklearn.metrics import mean_squared_error, root_mean_squared_error\n",
        "\n",
        "from lightgbm import LGBMRegressor\n",
        "from catboost import CatBoostRegressor\n",
        "from sklearn.multioutput import MultiOutputRegressor\n",
        "\n",
        "from tensorflow.keras.callbacks import EarlyStopping,ReduceLROnPlateau\n",
        "from sklearn.model_selection import KFold\n",
        "\n",
        "from sklearn.ensemble import RandomForestRegressor\n",
        "import xgboost as xg"
      ]
    },
    {
      "cell_type": "code",
      "execution_count": null,
      "id": "f5f8aa7a-42ed-4235-945f-563b2fd99fbb",
      "metadata": {
        "id": "f5f8aa7a-42ed-4235-945f-563b2fd99fbb",
        "outputId": "08cf64dd-b4eb-48a5-bb3e-adf78e48863d",
        "colab": {
          "base_uri": "https://localhost:8080/",
          "height": 419
        }
      },
      "outputs": [
        {
          "output_type": "execute_result",
          "data": {
            "text/plain": [
              "     f_NL_equilateral  Omega_m       h     n_s  sigma_8\n",
              "0               201.0   0.3330  0.5966  1.0726   0.7110\n",
              "1               -76.2   0.2814  0.6050  0.8502   0.9430\n",
              "2              -411.0   0.1478  0.5958  1.0838   0.6186\n",
              "3              -189.0   0.3350  0.8534  0.8050   0.9442\n",
              "4               575.4   0.4942  0.5718  1.1942   0.8090\n",
              "..                ...      ...     ...     ...      ...\n",
              "995            -565.8   0.1342  0.7946  1.1074   0.9006\n",
              "996            -551.4   0.3370  0.5074  1.0230   0.6350\n",
              "997             240.6   0.4086  0.6694  1.0314   0.7626\n",
              "998             175.8   0.2266  0.5606  1.0490   0.6378\n",
              "999             250.2   0.4418  0.5678  0.8762   0.9286\n",
              "\n",
              "[1000 rows x 5 columns]"
            ],
            "text/html": [
              "\n",
              "  <div id=\"df-827fca82-2b41-4e11-85aa-3342c3747bd3\" class=\"colab-df-container\">\n",
              "    <div>\n",
              "<style scoped>\n",
              "    .dataframe tbody tr th:only-of-type {\n",
              "        vertical-align: middle;\n",
              "    }\n",
              "\n",
              "    .dataframe tbody tr th {\n",
              "        vertical-align: top;\n",
              "    }\n",
              "\n",
              "    .dataframe thead th {\n",
              "        text-align: right;\n",
              "    }\n",
              "</style>\n",
              "<table border=\"1\" class=\"dataframe\">\n",
              "  <thead>\n",
              "    <tr style=\"text-align: right;\">\n",
              "      <th></th>\n",
              "      <th>f_NL_equilateral</th>\n",
              "      <th>Omega_m</th>\n",
              "      <th>h</th>\n",
              "      <th>n_s</th>\n",
              "      <th>sigma_8</th>\n",
              "    </tr>\n",
              "  </thead>\n",
              "  <tbody>\n",
              "    <tr>\n",
              "      <th>0</th>\n",
              "      <td>201.0</td>\n",
              "      <td>0.3330</td>\n",
              "      <td>0.5966</td>\n",
              "      <td>1.0726</td>\n",
              "      <td>0.7110</td>\n",
              "    </tr>\n",
              "    <tr>\n",
              "      <th>1</th>\n",
              "      <td>-76.2</td>\n",
              "      <td>0.2814</td>\n",
              "      <td>0.6050</td>\n",
              "      <td>0.8502</td>\n",
              "      <td>0.9430</td>\n",
              "    </tr>\n",
              "    <tr>\n",
              "      <th>2</th>\n",
              "      <td>-411.0</td>\n",
              "      <td>0.1478</td>\n",
              "      <td>0.5958</td>\n",
              "      <td>1.0838</td>\n",
              "      <td>0.6186</td>\n",
              "    </tr>\n",
              "    <tr>\n",
              "      <th>3</th>\n",
              "      <td>-189.0</td>\n",
              "      <td>0.3350</td>\n",
              "      <td>0.8534</td>\n",
              "      <td>0.8050</td>\n",
              "      <td>0.9442</td>\n",
              "    </tr>\n",
              "    <tr>\n",
              "      <th>4</th>\n",
              "      <td>575.4</td>\n",
              "      <td>0.4942</td>\n",
              "      <td>0.5718</td>\n",
              "      <td>1.1942</td>\n",
              "      <td>0.8090</td>\n",
              "    </tr>\n",
              "    <tr>\n",
              "      <th>...</th>\n",
              "      <td>...</td>\n",
              "      <td>...</td>\n",
              "      <td>...</td>\n",
              "      <td>...</td>\n",
              "      <td>...</td>\n",
              "    </tr>\n",
              "    <tr>\n",
              "      <th>995</th>\n",
              "      <td>-565.8</td>\n",
              "      <td>0.1342</td>\n",
              "      <td>0.7946</td>\n",
              "      <td>1.1074</td>\n",
              "      <td>0.9006</td>\n",
              "    </tr>\n",
              "    <tr>\n",
              "      <th>996</th>\n",
              "      <td>-551.4</td>\n",
              "      <td>0.3370</td>\n",
              "      <td>0.5074</td>\n",
              "      <td>1.0230</td>\n",
              "      <td>0.6350</td>\n",
              "    </tr>\n",
              "    <tr>\n",
              "      <th>997</th>\n",
              "      <td>240.6</td>\n",
              "      <td>0.4086</td>\n",
              "      <td>0.6694</td>\n",
              "      <td>1.0314</td>\n",
              "      <td>0.7626</td>\n",
              "    </tr>\n",
              "    <tr>\n",
              "      <th>998</th>\n",
              "      <td>175.8</td>\n",
              "      <td>0.2266</td>\n",
              "      <td>0.5606</td>\n",
              "      <td>1.0490</td>\n",
              "      <td>0.6378</td>\n",
              "    </tr>\n",
              "    <tr>\n",
              "      <th>999</th>\n",
              "      <td>250.2</td>\n",
              "      <td>0.4418</td>\n",
              "      <td>0.5678</td>\n",
              "      <td>0.8762</td>\n",
              "      <td>0.9286</td>\n",
              "    </tr>\n",
              "  </tbody>\n",
              "</table>\n",
              "<p>1000 rows × 5 columns</p>\n",
              "</div>\n",
              "    <div class=\"colab-df-buttons\">\n",
              "\n",
              "  <div class=\"colab-df-container\">\n",
              "    <button class=\"colab-df-convert\" onclick=\"convertToInteractive('df-827fca82-2b41-4e11-85aa-3342c3747bd3')\"\n",
              "            title=\"Convert this dataframe to an interactive table.\"\n",
              "            style=\"display:none;\">\n",
              "\n",
              "  <svg xmlns=\"http://www.w3.org/2000/svg\" height=\"24px\" viewBox=\"0 -960 960 960\">\n",
              "    <path d=\"M120-120v-720h720v720H120Zm60-500h600v-160H180v160Zm220 220h160v-160H400v160Zm0 220h160v-160H400v160ZM180-400h160v-160H180v160Zm440 0h160v-160H620v160ZM180-180h160v-160H180v160Zm440 0h160v-160H620v160Z\"/>\n",
              "  </svg>\n",
              "    </button>\n",
              "\n",
              "  <style>\n",
              "    .colab-df-container {\n",
              "      display:flex;\n",
              "      gap: 12px;\n",
              "    }\n",
              "\n",
              "    .colab-df-convert {\n",
              "      background-color: #E8F0FE;\n",
              "      border: none;\n",
              "      border-radius: 50%;\n",
              "      cursor: pointer;\n",
              "      display: none;\n",
              "      fill: #1967D2;\n",
              "      height: 32px;\n",
              "      padding: 0 0 0 0;\n",
              "      width: 32px;\n",
              "    }\n",
              "\n",
              "    .colab-df-convert:hover {\n",
              "      background-color: #E2EBFA;\n",
              "      box-shadow: 0px 1px 2px rgba(60, 64, 67, 0.3), 0px 1px 3px 1px rgba(60, 64, 67, 0.15);\n",
              "      fill: #174EA6;\n",
              "    }\n",
              "\n",
              "    .colab-df-buttons div {\n",
              "      margin-bottom: 4px;\n",
              "    }\n",
              "\n",
              "    [theme=dark] .colab-df-convert {\n",
              "      background-color: #3B4455;\n",
              "      fill: #D2E3FC;\n",
              "    }\n",
              "\n",
              "    [theme=dark] .colab-df-convert:hover {\n",
              "      background-color: #434B5C;\n",
              "      box-shadow: 0px 1px 3px 1px rgba(0, 0, 0, 0.15);\n",
              "      filter: drop-shadow(0px 1px 2px rgba(0, 0, 0, 0.3));\n",
              "      fill: #FFFFFF;\n",
              "    }\n",
              "  </style>\n",
              "\n",
              "    <script>\n",
              "      const buttonEl =\n",
              "        document.querySelector('#df-827fca82-2b41-4e11-85aa-3342c3747bd3 button.colab-df-convert');\n",
              "      buttonEl.style.display =\n",
              "        google.colab.kernel.accessAllowed ? 'block' : 'none';\n",
              "\n",
              "      async function convertToInteractive(key) {\n",
              "        const element = document.querySelector('#df-827fca82-2b41-4e11-85aa-3342c3747bd3');\n",
              "        const dataTable =\n",
              "          await google.colab.kernel.invokeFunction('convertToInteractive',\n",
              "                                                    [key], {});\n",
              "        if (!dataTable) return;\n",
              "\n",
              "        const docLinkHtml = 'Like what you see? Visit the ' +\n",
              "          '<a target=\"_blank\" href=https://colab.research.google.com/notebooks/data_table.ipynb>data table notebook</a>'\n",
              "          + ' to learn more about interactive tables.';\n",
              "        element.innerHTML = '';\n",
              "        dataTable['output_type'] = 'display_data';\n",
              "        await google.colab.output.renderOutput(dataTable, element);\n",
              "        const docLink = document.createElement('div');\n",
              "        docLink.innerHTML = docLinkHtml;\n",
              "        element.appendChild(docLink);\n",
              "      }\n",
              "    </script>\n",
              "  </div>\n",
              "\n",
              "\n",
              "    <div id=\"df-671fcd86-6f80-48c3-8bbf-b979f25b57f1\">\n",
              "      <button class=\"colab-df-quickchart\" onclick=\"quickchart('df-671fcd86-6f80-48c3-8bbf-b979f25b57f1')\"\n",
              "                title=\"Suggest charts\"\n",
              "                style=\"display:none;\">\n",
              "\n",
              "<svg xmlns=\"http://www.w3.org/2000/svg\" height=\"24px\"viewBox=\"0 0 24 24\"\n",
              "     width=\"24px\">\n",
              "    <g>\n",
              "        <path d=\"M19 3H5c-1.1 0-2 .9-2 2v14c0 1.1.9 2 2 2h14c1.1 0 2-.9 2-2V5c0-1.1-.9-2-2-2zM9 17H7v-7h2v7zm4 0h-2V7h2v10zm4 0h-2v-4h2v4z\"/>\n",
              "    </g>\n",
              "</svg>\n",
              "      </button>\n",
              "\n",
              "<style>\n",
              "  .colab-df-quickchart {\n",
              "      --bg-color: #E8F0FE;\n",
              "      --fill-color: #1967D2;\n",
              "      --hover-bg-color: #E2EBFA;\n",
              "      --hover-fill-color: #174EA6;\n",
              "      --disabled-fill-color: #AAA;\n",
              "      --disabled-bg-color: #DDD;\n",
              "  }\n",
              "\n",
              "  [theme=dark] .colab-df-quickchart {\n",
              "      --bg-color: #3B4455;\n",
              "      --fill-color: #D2E3FC;\n",
              "      --hover-bg-color: #434B5C;\n",
              "      --hover-fill-color: #FFFFFF;\n",
              "      --disabled-bg-color: #3B4455;\n",
              "      --disabled-fill-color: #666;\n",
              "  }\n",
              "\n",
              "  .colab-df-quickchart {\n",
              "    background-color: var(--bg-color);\n",
              "    border: none;\n",
              "    border-radius: 50%;\n",
              "    cursor: pointer;\n",
              "    display: none;\n",
              "    fill: var(--fill-color);\n",
              "    height: 32px;\n",
              "    padding: 0;\n",
              "    width: 32px;\n",
              "  }\n",
              "\n",
              "  .colab-df-quickchart:hover {\n",
              "    background-color: var(--hover-bg-color);\n",
              "    box-shadow: 0 1px 2px rgba(60, 64, 67, 0.3), 0 1px 3px 1px rgba(60, 64, 67, 0.15);\n",
              "    fill: var(--button-hover-fill-color);\n",
              "  }\n",
              "\n",
              "  .colab-df-quickchart-complete:disabled,\n",
              "  .colab-df-quickchart-complete:disabled:hover {\n",
              "    background-color: var(--disabled-bg-color);\n",
              "    fill: var(--disabled-fill-color);\n",
              "    box-shadow: none;\n",
              "  }\n",
              "\n",
              "  .colab-df-spinner {\n",
              "    border: 2px solid var(--fill-color);\n",
              "    border-color: transparent;\n",
              "    border-bottom-color: var(--fill-color);\n",
              "    animation:\n",
              "      spin 1s steps(1) infinite;\n",
              "  }\n",
              "\n",
              "  @keyframes spin {\n",
              "    0% {\n",
              "      border-color: transparent;\n",
              "      border-bottom-color: var(--fill-color);\n",
              "      border-left-color: var(--fill-color);\n",
              "    }\n",
              "    20% {\n",
              "      border-color: transparent;\n",
              "      border-left-color: var(--fill-color);\n",
              "      border-top-color: var(--fill-color);\n",
              "    }\n",
              "    30% {\n",
              "      border-color: transparent;\n",
              "      border-left-color: var(--fill-color);\n",
              "      border-top-color: var(--fill-color);\n",
              "      border-right-color: var(--fill-color);\n",
              "    }\n",
              "    40% {\n",
              "      border-color: transparent;\n",
              "      border-right-color: var(--fill-color);\n",
              "      border-top-color: var(--fill-color);\n",
              "    }\n",
              "    60% {\n",
              "      border-color: transparent;\n",
              "      border-right-color: var(--fill-color);\n",
              "    }\n",
              "    80% {\n",
              "      border-color: transparent;\n",
              "      border-right-color: var(--fill-color);\n",
              "      border-bottom-color: var(--fill-color);\n",
              "    }\n",
              "    90% {\n",
              "      border-color: transparent;\n",
              "      border-bottom-color: var(--fill-color);\n",
              "    }\n",
              "  }\n",
              "</style>\n",
              "\n",
              "      <script>\n",
              "        async function quickchart(key) {\n",
              "          const quickchartButtonEl =\n",
              "            document.querySelector('#' + key + ' button');\n",
              "          quickchartButtonEl.disabled = true;  // To prevent multiple clicks.\n",
              "          quickchartButtonEl.classList.add('colab-df-spinner');\n",
              "          try {\n",
              "            const charts = await google.colab.kernel.invokeFunction(\n",
              "                'suggestCharts', [key], {});\n",
              "          } catch (error) {\n",
              "            console.error('Error during call to suggestCharts:', error);\n",
              "          }\n",
              "          quickchartButtonEl.classList.remove('colab-df-spinner');\n",
              "          quickchartButtonEl.classList.add('colab-df-quickchart-complete');\n",
              "        }\n",
              "        (() => {\n",
              "          let quickchartButtonEl =\n",
              "            document.querySelector('#df-671fcd86-6f80-48c3-8bbf-b979f25b57f1 button');\n",
              "          quickchartButtonEl.style.display =\n",
              "            google.colab.kernel.accessAllowed ? 'block' : 'none';\n",
              "        })();\n",
              "      </script>\n",
              "    </div>\n",
              "\n",
              "  <div id=\"id_311c10d7-a3e3-414d-99f6-22f73e8b7a5f\">\n",
              "    <style>\n",
              "      .colab-df-generate {\n",
              "        background-color: #E8F0FE;\n",
              "        border: none;\n",
              "        border-radius: 50%;\n",
              "        cursor: pointer;\n",
              "        display: none;\n",
              "        fill: #1967D2;\n",
              "        height: 32px;\n",
              "        padding: 0 0 0 0;\n",
              "        width: 32px;\n",
              "      }\n",
              "\n",
              "      .colab-df-generate:hover {\n",
              "        background-color: #E2EBFA;\n",
              "        box-shadow: 0px 1px 2px rgba(60, 64, 67, 0.3), 0px 1px 3px 1px rgba(60, 64, 67, 0.15);\n",
              "        fill: #174EA6;\n",
              "      }\n",
              "\n",
              "      [theme=dark] .colab-df-generate {\n",
              "        background-color: #3B4455;\n",
              "        fill: #D2E3FC;\n",
              "      }\n",
              "\n",
              "      [theme=dark] .colab-df-generate:hover {\n",
              "        background-color: #434B5C;\n",
              "        box-shadow: 0px 1px 3px 1px rgba(0, 0, 0, 0.15);\n",
              "        filter: drop-shadow(0px 1px 2px rgba(0, 0, 0, 0.3));\n",
              "        fill: #FFFFFF;\n",
              "      }\n",
              "    </style>\n",
              "    <button class=\"colab-df-generate\" onclick=\"generateWithVariable('params')\"\n",
              "            title=\"Generate code using this dataframe.\"\n",
              "            style=\"display:none;\">\n",
              "\n",
              "  <svg xmlns=\"http://www.w3.org/2000/svg\" height=\"24px\"viewBox=\"0 0 24 24\"\n",
              "       width=\"24px\">\n",
              "    <path d=\"M7,19H8.4L18.45,9,17,7.55,7,17.6ZM5,21V16.75L18.45,3.32a2,2,0,0,1,2.83,0l1.4,1.43a1.91,1.91,0,0,1,.58,1.4,1.91,1.91,0,0,1-.58,1.4L9.25,21ZM18.45,9,17,7.55Zm-12,3A5.31,5.31,0,0,0,4.9,8.1,5.31,5.31,0,0,0,1,6.5,5.31,5.31,0,0,0,4.9,4.9,5.31,5.31,0,0,0,6.5,1,5.31,5.31,0,0,0,8.1,4.9,5.31,5.31,0,0,0,12,6.5,5.46,5.46,0,0,0,6.5,12Z\"/>\n",
              "  </svg>\n",
              "    </button>\n",
              "    <script>\n",
              "      (() => {\n",
              "      const buttonEl =\n",
              "        document.querySelector('#id_311c10d7-a3e3-414d-99f6-22f73e8b7a5f button.colab-df-generate');\n",
              "      buttonEl.style.display =\n",
              "        google.colab.kernel.accessAllowed ? 'block' : 'none';\n",
              "\n",
              "      buttonEl.onclick = () => {\n",
              "        google.colab.notebook.generateWithVariable('params');\n",
              "      }\n",
              "      })();\n",
              "    </script>\n",
              "  </div>\n",
              "\n",
              "    </div>\n",
              "  </div>\n"
            ],
            "application/vnd.google.colaboratory.intrinsic+json": {
              "type": "dataframe",
              "variable_name": "params",
              "summary": "{\n  \"name\": \"params\",\n  \"rows\": 1000,\n  \"fields\": [\n    {\n      \"column\": \"f_NL_equilateral\",\n      \"properties\": {\n        \"dtype\": \"number\",\n        \"std\": 346.5833233148994,\n        \"min\": -599.4,\n        \"max\": 599.4,\n        \"num_unique_values\": 1000,\n        \"samples\": [\n          431.4,\n          492.6,\n          514.2\n        ],\n        \"semantic_type\": \"\",\n        \"description\": \"\"\n      }\n    },\n    {\n      \"column\": \"Omega_m\",\n      \"properties\": {\n        \"dtype\": \"number\",\n        \"std\": 0.11552777443829973,\n        \"min\": 0.1002,\n        \"max\": 0.4998,\n        \"num_unique_values\": 1000,\n        \"samples\": [\n          0.469,\n          0.3466,\n          0.4042\n        ],\n        \"semantic_type\": \"\",\n        \"description\": \"\"\n      }\n    },\n    {\n      \"column\": \"h\",\n      \"properties\": {\n        \"dtype\": \"number\",\n        \"std\": 0.11552777443829976,\n        \"min\": 0.5002,\n        \"max\": 0.8998,\n        \"num_unique_values\": 1000,\n        \"samples\": [\n          0.549,\n          0.8938,\n          0.6478\n        ],\n        \"semantic_type\": \"\",\n        \"description\": \"\"\n      }\n    },\n    {\n      \"column\": \"n_s\",\n      \"properties\": {\n        \"dtype\": \"number\",\n        \"std\": 0.11552777443829969,\n        \"min\": 0.8002,\n        \"max\": 1.1998,\n        \"num_unique_values\": 1000,\n        \"samples\": [\n          0.9078,\n          0.9218,\n          1.071\n        ],\n        \"semantic_type\": \"\",\n        \"description\": \"\"\n      }\n    },\n    {\n      \"column\": \"sigma_8\",\n      \"properties\": {\n        \"dtype\": \"number\",\n        \"std\": 0.11552777443829969,\n        \"min\": 0.6002,\n        \"max\": 0.9998,\n        \"num_unique_values\": 1000,\n        \"samples\": [\n          0.8834,\n          0.8826,\n          0.999\n        ],\n        \"semantic_type\": \"\",\n        \"description\": \"\"\n      }\n    }\n  ]\n}"
            }
          },
          "metadata": {},
          "execution_count": 4
        }
      ],
      "source": [
        "params=pd.read_csv('latin_hypercube_params_fnl_eq.txt',delimiter=' ')\n",
        "params.rename(columns={\"#f_NL_equilateral\": \"f_NL_equilateral\"},inplace=True)\n",
        "!unzip -qq latin_hypercube_EQ.zip\n",
        "params"
      ]
    },
    {
      "cell_type": "code",
      "execution_count": null,
      "id": "-X_F-7egyvFT",
      "metadata": {
        "id": "-X_F-7egyvFT"
      },
      "outputs": [],
      "source": [
        "#Normalise the data\n",
        "params['Omega_m'] =(params['Omega_m']-0.1)/(0.5-0.1)\n",
        "params['h']       =(params['h']-0.5)/(0.9-0.5)\n",
        "params['n_s']     =(params['n_s']-0.8)/(1.2-0.8)\n",
        "params['sigma_8'] =(params['sigma_8']-0.6)/(1-0.6)\n",
        "params['f_NL_equilateral'] =(params['f_NL_equilateral']+600)/(600+600)"
      ]
    },
    {
      "cell_type": "code",
      "execution_count": null,
      "id": "8890a66b-4317-4de3-aba6-6e7d49a139c9",
      "metadata": {
        "id": "8890a66b-4317-4de3-aba6-6e7d49a139c9",
        "outputId": "042b4b53-ac26-4836-e02c-8c1d4df0ee19",
        "colab": {
          "base_uri": "https://localhost:8080/",
          "height": 238
        }
      },
      "outputs": [
        {
          "output_type": "execute_result",
          "data": {
            "text/plain": [
              "f_NL_equilateral    0.9995\n",
              "Omega_m             0.9995\n",
              "h                   0.9995\n",
              "n_s                 0.9995\n",
              "sigma_8             0.9995\n",
              "dtype: float64"
            ],
            "text/html": [
              "<div>\n",
              "<style scoped>\n",
              "    .dataframe tbody tr th:only-of-type {\n",
              "        vertical-align: middle;\n",
              "    }\n",
              "\n",
              "    .dataframe tbody tr th {\n",
              "        vertical-align: top;\n",
              "    }\n",
              "\n",
              "    .dataframe thead th {\n",
              "        text-align: right;\n",
              "    }\n",
              "</style>\n",
              "<table border=\"1\" class=\"dataframe\">\n",
              "  <thead>\n",
              "    <tr style=\"text-align: right;\">\n",
              "      <th></th>\n",
              "      <th>0</th>\n",
              "    </tr>\n",
              "  </thead>\n",
              "  <tbody>\n",
              "    <tr>\n",
              "      <th>f_NL_equilateral</th>\n",
              "      <td>0.9995</td>\n",
              "    </tr>\n",
              "    <tr>\n",
              "      <th>Omega_m</th>\n",
              "      <td>0.9995</td>\n",
              "    </tr>\n",
              "    <tr>\n",
              "      <th>h</th>\n",
              "      <td>0.9995</td>\n",
              "    </tr>\n",
              "    <tr>\n",
              "      <th>n_s</th>\n",
              "      <td>0.9995</td>\n",
              "    </tr>\n",
              "    <tr>\n",
              "      <th>sigma_8</th>\n",
              "      <td>0.9995</td>\n",
              "    </tr>\n",
              "  </tbody>\n",
              "</table>\n",
              "</div><br><label><b>dtype:</b> float64</label>"
            ]
          },
          "metadata": {},
          "execution_count": 7
        }
      ],
      "source": [
        "params.max()"
      ]
    },
    {
      "cell_type": "code",
      "execution_count": null,
      "id": "fddcf0c0-51d9-43fc-ac76-8474f4079eb0",
      "metadata": {
        "id": "fddcf0c0-51d9-43fc-ac76-8474f4079eb0"
      },
      "outputs": [],
      "source": [
        "# Choose the min and max values of k for training\n",
        "imin=1;imax=318;"
      ]
    },
    {
      "cell_type": "code",
      "execution_count": null,
      "id": "7a99055f-5c4a-41a8-84bf-95123a7c4054",
      "metadata": {
        "id": "7a99055f-5c4a-41a8-84bf-95123a7c4054"
      },
      "outputs": [],
      "source": [
        "# Read the data files\n",
        "psa=[]\n",
        "for i in range(1000):\n",
        "    df=pd.read_fwf('latin_hypercube_EQ/'+str(i)+'/Pk_CDM_z=0.000.dat',header=None)\n",
        "    psa.append(df.iloc[imin:imax,1].values)\n",
        "ps=np.array(psa)"
      ]
    },
    {
      "cell_type": "code",
      "execution_count": null,
      "id": "2bf3c4ed-9047-4a32-838d-0a35974fd071",
      "metadata": {
        "colab": {
          "base_uri": "https://localhost:8080/",
          "height": 489
        },
        "id": "2bf3c4ed-9047-4a32-838d-0a35974fd071",
        "outputId": "3d0109f4-a8ff-44d5-909d-b3d5018c3d13"
      },
      "outputs": [
        {
          "output_type": "execute_result",
          "data": {
            "text/plain": [
              "Text(0, 0.5, 'P(k)')"
            ]
          },
          "metadata": {},
          "execution_count": 11
        },
        {
          "output_type": "display_data",
          "data": {
            "text/plain": [
              "<Figure size 640x480 with 1 Axes>"
            ],
            "image/png": "[encoded data removed]"
          },
          "metadata": {}
        }
      ],
      "source": [
        "# Power specturm example\n",
        "df=pd.read_fwf('latin_hypercube_EQ/0/Pk_CDM_z=0.000.dat',header=None)\n",
        "kvals=df.iloc[imin:imax,0].values\n",
        "y1=df.iloc[imin:imax,1]\n",
        "y2=np.log(df.iloc[imin:imax,1].values)\n",
        "plt.plot(y2)\n",
        "plt.title('Example of a power spectrum simulation')\n",
        "plt.xlabel('k')\n",
        "plt.ylabel('P(k)')"
      ]
    },
    {
      "cell_type": "markdown",
      "source": [
        "**Neural Networks**"
      ],
      "metadata": {
        "id": "heswzzHNYRmF"
      },
      "id": "heswzzHNYRmF"
    },
    {
      "cell_type": "code",
      "execution_count": null,
      "id": "477b3842-3940-4238-b44e-e9692c3646c1",
      "metadata": {
        "id": "477b3842-3940-4238-b44e-e9692c3646c1"
      },
      "outputs": [],
      "source": [
        "# Split data into training and test sets\n",
        "X_train, X_test, y_train, y_test = train_test_split(params, np.log(ps), test_size=0.1, random_state=66)"
      ]
    },
    {
      "cell_type": "code",
      "execution_count": null,
      "id": "pTblrCTPCByg",
      "metadata": {
        "id": "pTblrCTPCByg"
      },
      "outputs": [],
      "source": [
        "# Set up K-Fold Cross-Validation for training the neural networks\n",
        "k = 5  # Number of folds\n",
        "kf = KFold(n_splits=k, shuffle=True, random_state=42)"
      ]
    },
    {
      "cell_type": "code",
      "execution_count": null,
      "id": "8697bab0-5088-4bbc-8640-877986925581",
      "metadata": {
        "id": "8697bab0-5088-4bbc-8640-877986925581"
      },
      "outputs": [],
      "source": [
        "def model_NN():\n",
        "    tf.random.set_seed(87)\n",
        "    model = tf.keras.models.Sequential()\n",
        "    model.add(Input(shape=(5,)))\n",
        "    model.add(Dense(2048, activation='relu'))\n",
        "    model.add(Dropout(0.15))\n",
        "    model.add(Dense(2048, activation='relu'))\n",
        "    model.add(Dropout(0.15))\n",
        "    model.add(Dense(317, activation='linear'))\n",
        "\n",
        "    model.compile(loss='mse',\n",
        "             optimizer=tf.keras.optimizers.Adam(learning_rate=1e-4),\n",
        "             metrics=['mse']\n",
        "             )\n",
        "\n",
        "    return model"
      ]
    },
    {
      "cell_type": "code",
      "execution_count": null,
      "id": "XihN0Vu9Kp8c",
      "metadata": {
        "id": "XihN0Vu9Kp8c"
      },
      "outputs": [],
      "source": [
        "def model_NN_PCA():\n",
        "    modelPCA = tf.keras.models.Sequential()\n",
        "    modelPCA.add(Input(shape=(5,)))\n",
        "    modelPCA.add(Dense(2048, activation='relu'))\n",
        "    modelPCA.add(Dropout(0.6))\n",
        "    modelPCA.add(Dense(2048, activation='relu'))\n",
        "    modelPCA.add(Dropout(0.6))\n",
        "    modelPCA.add(Dense(11, activation='linear'))\n",
        "\n",
        "    modelPCA.compile(loss='mse',\n",
        "              optimizer=tf.keras.optimizers.Adam(learning_rate=1e-4),\n",
        "              metrics=['mse'])\n",
        "\n",
        "    return modelPCA"
      ]
    },
    {
      "cell_type": "code",
      "execution_count": null,
      "id": "a9c5a577-082b-4b32-83bc-4904ca09694a",
      "metadata": {
        "id": "a9c5a577-082b-4b32-83bc-4904ca09694a"
      },
      "outputs": [],
      "source": [
        "early_stopping = EarlyStopping(monitor='val_loss', patience=125, restore_best_weights=True)"
      ]
    },
    {
      "cell_type": "code",
      "execution_count": null,
      "id": "7mVIjF2HC4tF",
      "metadata": {
        "id": "7mVIjF2HC4tF"
      },
      "outputs": [],
      "source": [
        "y_pred_NN_all=np.zeros((5,100,317))\n",
        "y_pred_NN_PCA_all=np.zeros((5,100,317))\n",
        "\n",
        "for fold, (train_index, val_index) in enumerate(kf.split(X_train)):\n",
        "    print(f'Fold {fold + 1}')\n",
        "\n",
        "    # Split the data into training and validation sets for this fold\n",
        "    X_train_fold, X_val_fold = np.array(X_train)[train_index], np.array(X_train)[val_index]\n",
        "    y_train_fold, y_val_fold = y_train[train_index], y_train[val_index]\n",
        "\n",
        "    #PCA\n",
        "    pca = PCA(n_components=11)\n",
        "    y_train_pca_fold  = pca.fit_transform(y_train_fold)\n",
        "    y_val_pca_fold    = pca.transform(y_val_fold)\n",
        "    y_test_pca_fold   = pca.transform(y_test)\n",
        "\n",
        "    # Create a new instance of the model for each fold\n",
        "    model = model_NN()\n",
        "    modelPCA = model_NN_PCA()\n",
        "\n",
        "    print('Neural network')\n",
        "\n",
        "    # Train the model on the training fold\n",
        "    model.fit(X_train_fold,y_train_fold, validation_data=(X_val_fold, y_val_fold) ,epochs=3000, callbacks=[early_stopping],verbose=0)\n",
        "    # Evaluate the model on the validation fold\n",
        "    y_pred_NN_all[fold]=model.predict(X_test)\n",
        "\n",
        "    print('Neural network (PCA)')\n",
        "    # Train the model on the training fold\n",
        "\n",
        "    modelPCA.fit(X_train_fold,y_train_pca_fold, validation_data=(X_val_fold, y_val_pca_fold) ,epochs=3000, callbacks=[early_stopping],verbose=0)\n",
        "    # Evaluate the model on the validation fold\n",
        "    predsPCA_NN=modelPCA.predict(X_test)\n",
        "    y_pred_NN_PCA_all[fold]=pca.inverse_transform(predsPCA_NN)\n",
        "\n"
      ]
    },
    {
      "cell_type": "code",
      "execution_count": null,
      "id": "k8L5B67wOlzg",
      "metadata": {
        "id": "k8L5B67wOlzg"
      },
      "outputs": [],
      "source": [
        "# Average between folds\n",
        "y_pred_NN=np.mean(y_pred_NN_all,axis=0)\n",
        "y_pred_NN_PCA=np.mean(y_pred_NN_PCA_all,axis=0)"
      ]
    },
    {
      "cell_type": "markdown",
      "source": [
        "**CatBoost**"
      ],
      "metadata": {
        "id": "FwM7ubMnYsF6"
      },
      "id": "FwM7ubMnYsF6"
    },
    {
      "cell_type": "code",
      "execution_count": null,
      "id": "788225dd-f6be-4876-afea-d524d845ddb4",
      "metadata": {
        "id": "788225dd-f6be-4876-afea-d524d845ddb4"
      },
      "outputs": [],
      "source": [
        "# CatBoost\n",
        "model_CB = CatBoostRegressor(loss_function='MultiRMSE',iterations=1000,verbose=0)\n",
        "model_CB.fit(X_train, y_train)\n",
        "y_pred_CB = model_CB.predict(X_test)"
      ]
    },
    {
      "cell_type": "code",
      "execution_count": null,
      "id": "d04d1004-dd3d-48c8-bc45-a35e9e15fe97",
      "metadata": {
        "id": "d04d1004-dd3d-48c8-bc45-a35e9e15fe97"
      },
      "outputs": [],
      "source": [
        "# CatBoost PCA\n",
        "pca = PCA(n_components=11)\n",
        "y_train_pca_cb  = pca.fit_transform(y_train)\n",
        "\n",
        "\n",
        "model_CB_PCA = CatBoostRegressor(loss_function='MultiRMSE',iterations=1000,verbose=0)\n",
        "model_CB_PCA.fit(X_train, y_train_pca_cb)\n",
        "preds_CB_PCA = model_CB_PCA.predict(X_test)\n",
        "y_pred_CB_PCA = pca.inverse_transform(preds_CB_PCA)"
      ]
    },
    {
      "cell_type": "code",
      "execution_count": null,
      "id": "a425b97a-17b0-4c0d-afe9-55890ae249e5",
      "metadata": {
        "colab": {
          "base_uri": "https://localhost:8080/"
        },
        "id": "a425b97a-17b0-4c0d-afe9-55890ae249e5",
        "outputId": "8e64dc67-ff4e-4241-b5c1-0e685c72a200"
      },
      "outputs": [
        {
          "output_type": "stream",
          "name": "stdout",
          "text": [
            "Neural network: 1.443601e+02\n",
            "Neural Network PCA: 1.371636e+02\n",
            "CatBoost: 1.695990e+02\n",
            "CatBoost PCA: 1.690677e+02\n"
          ]
        }
      ],
      "source": [
        "# Overall RMSE\n",
        "print('Neural network:',\"{:e}\".format(root_mean_squared_error(np.exp(y_test),np.exp(y_pred_NN))))\n",
        "print('Neural Network PCA:',\"{:e}\".format(root_mean_squared_error(np.exp(y_test),np.exp(y_pred_NN_PCA))))\n",
        "print('CatBoost:',\"{:e}\".format(root_mean_squared_error(np.exp(y_test),np.exp(y_pred_CB))))\n",
        "print('CatBoost PCA:',\"{:e}\".format(root_mean_squared_error(np.exp(y_test),np.exp(y_pred_CB_PCA))))"
      ]
    },
    {
      "cell_type": "markdown",
      "source": [
        "**RMSRE**"
      ],
      "metadata": {
        "id": "jJc5N-YOYv-K"
      },
      "id": "jJc5N-YOYv-K"
    },
    {
      "cell_type": "code",
      "execution_count": null,
      "id": "6unXdEIr5PRk",
      "metadata": {
        "colab": {
          "base_uri": "https://localhost:8080/",
          "height": 476
        },
        "id": "6unXdEIr5PRk",
        "outputId": "28754c50-d042-4a97-e035-6ec5ae6c360a"
      },
      "outputs": [
        {
          "output_type": "display_data",
          "data": {
            "text/plain": [
              "<Figure size 640x480 with 1 Axes>"
            ],
            "image/png": "[encoded data removed]"
          },
          "metadata": {}
        }
      ],
      "source": [
        "rmse_NN=root_mean_squared_error((np.exp(y_pred_NN)/np.exp(y_test)),np.ones(np.shape(y_test)),multioutput='raw_values')\n",
        "rmse_NN_PCA=root_mean_squared_error((np.exp(y_pred_NN_PCA)/np.exp(y_test)),np.ones(np.shape(y_test)),multioutput='raw_values')\n",
        "\n",
        "rmse_CB=root_mean_squared_error((np.exp(y_pred_CB)/np.exp(y_test)),np.ones(np.shape(y_test)),multioutput='raw_values')\n",
        "rmse_CB_PCA=root_mean_squared_error((np.exp(y_pred_CB_PCA)/np.exp(y_test)),np.ones(np.shape(y_test)),multioutput='raw_values')\n",
        "\n",
        "\n",
        "plt.semilogx(kvals,rmse_NN,label='Neural network')\n",
        "plt.semilogx(kvals,rmse_NN_PCA,label='Neural network (PCA)')\n",
        "plt.semilogx(kvals,rmse_CB,label='CatBoost')\n",
        "plt.semilogx(kvals,rmse_CB_PCA,label='CatBoost (PCA)')\n",
        "\n",
        "\n",
        "plt.semilogx(kvals,0.05*np.ones(len(kvals)),'darkgrey',linestyle='--')\n",
        "plt.legend()\n",
        "plt.xlabel('k')\n",
        "plt.ylabel('P(k)')\n",
        "plt.title('z=0: RMSE of prediction/simulation (test set)')\n",
        "\n",
        "plt.xlim((kvals[0],kvals[-1]))\n",
        "plt.ylim((0,0.17))\n",
        "plt.show()"
      ]
    },
    {
      "cell_type": "code",
      "execution_count": null,
      "id": "bsTbdUzFYZQd",
      "metadata": {
        "id": "bsTbdUzFYZQd"
      },
      "outputs": [],
      "source": [
        "rmse_output=pd.DataFrame((kvals,rmse_NN,rmse_NN_PCA,rmse_CB,rmse_CB_PCA)).T\n",
        "rmse_output.columns = ['k', 'Neural network', 'Neural network (PCA)', 'CatBoost','CatBoost (PCA)']\n",
        "rmse_output.to_csv('rmse_z_0_fnleq.csv', index=False)"
      ]
    },
    {
      "cell_type": "code",
      "source": [
        "import pickle\n",
        "with open('vars_fnl_eq_z_0.pkl', 'rb') as f:  # Python 3: open(..., 'wb')\n",
        "    [y_test, y_pred_NN, y_pred_NN_PCA, y_pred_CB, y_pred_CB_PCA]=pickle.load(f)\n",
        "\n",
        "#np.savez('arrays_fnl_eq_z_0.npz', y_test, y_pred_NN, y_pred_NN_PCA, y_pred_CB, y_pred_CB_PCA)"
      ],
      "metadata": {
        "id": "VZ59G_AnXcgw"
      },
      "id": "VZ59G_AnXcgw",
      "execution_count": null,
      "outputs": []
    },
    {
      "cell_type": "code",
      "source": [],
      "metadata": {
        "id": "Nro2cSYCY76y"
      },
      "id": "Nro2cSYCY76y",
      "execution_count": null,
      "outputs": []
    },
    {
      "cell_type": "code",
      "source": [
        "\n",
        "\n",
        "pca = PCA(n_components=11)\n",
        "y_train_pca_rf  = pca.fit_transform(y_train)\n",
        "y_test_pca_rf  = pca.fit_transform(y_test)\n",
        "\n",
        "\n",
        "regr_rf = RandomForestRegressor(n_estimators=1000, random_state=2)\n",
        "regr_rf.fit(X_train, y_train_pca_rf)\n",
        "preds_RF_pca=regr_rf.predict(X_test)\n",
        "y_pred_RF_PCA = pca.inverse_transform(preds_RF_pca)\n",
        "\n",
        "regr_lgbm = MultiOutputRegressor(LGBMRegressor(n_estimators=1000,verbose=0))\n",
        "regr_lgbm.fit(X_train, y_train_pca_rf)\n",
        "preds_lgbm_pca=regr_lgbm.predict(X_test)\n",
        "y_pred_lgbm_PCA = pca.inverse_transform(preds_lgbm_pca)\n",
        "\n",
        "regr_xgb = xg.XGBRegressor(n_estimators=1000)\n",
        "regr_xgb.fit(X_train, y_train_pca_rf)\n",
        "preds_xgb_pca=regr_xgb.predict(X_test)\n",
        "y_pred_xgb_PCA = pca.inverse_transform(preds_xgb_pca)\n",
        "\n",
        "np.savez('arrays_fnl_eq_z_0_all.npz', y_test, y_pred_NN, y_pred_NN_PCA, y_pred_CB, y_pred_CB_PCA,y_pred_RF_PCA,y_pred_lgbm_PCA,y_pred_xgb_PCA)\n"
      ],
      "metadata": {
        "id": "vrsVGM6XtBSw"
      },
      "id": "vrsVGM6XtBSw",
      "execution_count": null,
      "outputs": []
    },
    {
      "cell_type": "code",
      "source": [],
      "metadata": {
        "id": "7hclvDI86paJ"
      },
      "id": "7hclvDI86paJ",
      "execution_count": null,
      "outputs": []
    }
  ],
  "metadata": {
    "accelerator": "GPU",
    "colab": {
      "gpuType": "T4",
      "provenance": []
    },
    "kernelspec": {
      "display_name": "Python 3 (ipykernel)",
      "language": "python",
      "name": "python3"
    },
    "language_info": {
      "codemirror_mode": {
        "name": "ipython",
        "version": 3
      },
      "file_extension": ".py",
      "mimetype": "text/x-python",
      "name": "python",
      "nbconvert_exporter": "python",
      "pygments_lexer": "ipython3",
      "version": "3.11.11"
    }
  },
  "nbformat": 4,
  "nbformat_minor": 5
}